{
 "cells": [
  {
   "cell_type": "code",
   "execution_count": 1,
   "metadata": {},
   "outputs": [],
   "source": [
    "import numpy as np\n",
    "import plotly.offline as pyo\n",
    "import plotly.graph_objs as go"
   ]
  },
  {
   "cell_type": "code",
   "execution_count": 2,
   "metadata": {},
   "outputs": [],
   "source": [
    "np.random.seed(56)"
   ]
  },
  {
   "cell_type": "code",
   "execution_count": 3,
   "metadata": {},
   "outputs": [],
   "source": [
    "x_values = np.linspace(0,1,100)#from 0 to 1 create 100 even spaced values\n",
    "y_values = np.random.randn(100)#create 100 random values from a normal distribution"
   ]
  },
  {
   "cell_type": "code",
   "execution_count": 4,
   "metadata": {},
   "outputs": [
    {
     "data": {
      "text/plain": [
       "Scatter({\n",
       "    'mode': 'markers',\n",
       "    'name': 'markers',\n",
       "    'x': array([0.        , 0.01010101, 0.02020202, 0.03030303, 0.04040404, 0.05050505,\n",
       "                0.06060606, 0.07070707, 0.08080808, 0.09090909, 0.1010101 , 0.11111111,\n",
       "                0.12121212, 0.13131313, 0.14141414, 0.15151515, 0.16161616, 0.17171717,\n",
       "                0.18181818, 0.19191919, 0.2020202 , 0.21212121, 0.22222222, 0.23232323,\n",
       "                0.24242424, 0.25252525, 0.26262626, 0.27272727, 0.28282828, 0.29292929,\n",
       "                0.3030303 , 0.31313131, 0.32323232, 0.33333333, 0.34343434, 0.35353535,\n",
       "                0.36363636, 0.37373737, 0.38383838, 0.39393939, 0.4040404 , 0.41414141,\n",
       "                0.42424242, 0.43434343, 0.44444444, 0.45454545, 0.46464646, 0.47474747,\n",
       "                0.48484848, 0.49494949, 0.50505051, 0.51515152, 0.52525253, 0.53535354,\n",
       "                0.54545455, 0.55555556, 0.56565657, 0.57575758, 0.58585859, 0.5959596 ,\n",
       "                0.60606061, 0.61616162, 0.62626263, 0.63636364, 0.64646465, 0.65656566,\n",
       "                0.66666667, 0.67676768, 0.68686869, 0.6969697 , 0.70707071, 0.71717172,\n",
       "                0.72727273, 0.73737374, 0.74747475, 0.75757576, 0.76767677, 0.77777778,\n",
       "                0.78787879, 0.7979798 , 0.80808081, 0.81818182, 0.82828283, 0.83838384,\n",
       "                0.84848485, 0.85858586, 0.86868687, 0.87878788, 0.88888889, 0.8989899 ,\n",
       "                0.90909091, 0.91919192, 0.92929293, 0.93939394, 0.94949495, 0.95959596,\n",
       "                0.96969697, 0.97979798, 0.98989899, 1.        ]),\n",
       "    'y': array([3.96235682, 5.59365816, 6.10268062, 4.48782227, 4.73458014, 3.38299399,\n",
       "                4.72848551, 5.94555425, 4.37300721, 4.73405272, 5.68729358, 7.04845691,\n",
       "                4.53844105, 5.68784742, 6.00812262, 4.84349102, 5.90007753, 6.00047132,\n",
       "                5.68837496, 3.11890424, 5.85995815, 5.92045268, 5.27060325, 5.02781914,\n",
       "                2.81274239, 5.13474378, 4.31854435, 2.57760894, 5.42117375, 4.32266535,\n",
       "                3.85978558, 5.28461596, 4.4577586 , 5.46351946, 4.13831194, 5.87454227,\n",
       "                4.45574146, 5.36996606, 4.56505877, 6.11012305, 3.63863324, 4.86448632,\n",
       "                4.4479778 , 4.95047078, 5.88730775, 6.15464672, 5.11576695, 3.83847967,\n",
       "                4.81536846, 5.46698407, 2.99901447, 3.65224154, 4.77937185, 4.92103362,\n",
       "                4.39215278, 3.75426612, 6.62979432, 5.17752857, 4.32801342, 5.33112814,\n",
       "                7.00604277, 5.00614484, 3.46530939, 4.93033658, 5.22768782, 2.48738327,\n",
       "                7.70271251, 5.58365058, 5.33878175, 5.68900141, 6.70034868, 4.55873276,\n",
       "                5.3144938 , 5.63629759, 5.08677138, 4.88220837, 3.72412657, 5.90675596,\n",
       "                5.00606262, 4.14789636, 5.49958744, 3.48719073, 7.00429063, 6.25882569,\n",
       "                6.04015487, 6.0513821 , 5.97157016, 3.41360886, 4.48941815, 4.12102706,\n",
       "                3.86447992, 5.49700678, 6.51022587, 5.92073364, 5.63941201, 6.21704039,\n",
       "                5.15525236, 5.00922926, 4.82531825, 5.37383631])\n",
       "})"
      ]
     },
     "execution_count": 4,
     "metadata": {},
     "output_type": "execute_result"
    }
   ],
   "source": [
    "trace = go.Scatter(x = x_values, y=y_values+5, mode='markers', name='markers')\n",
    "trace"
   ]
  },
  {
   "cell_type": "markdown",
   "metadata": {},
   "source": [
    "**It seems go.Scatter is a special dictionary created only to fit in plotly syntax**"
   ]
  },
  {
   "cell_type": "code",
   "execution_count": 6,
   "metadata": {},
   "outputs": [
    {
     "data": {
      "text/plain": [
       "'temp-plot.html'"
      ]
     },
     "execution_count": 6,
     "metadata": {},
     "output_type": "execute_result"
    }
   ],
   "source": [
    "data = [trace]#convert it into an array\n",
    "\n",
    "layout = go.Layout(title= 'Line Charts')#这里的go其实是上面定义的plotly.grapho_objs\n",
    "\n",
    "fig = go.Figure(data=data, layout=layout)\n",
    "\n",
    "pyo.plot(fig)"
   ]
  },
  {
   "cell_type": "markdown",
   "metadata": {},
   "source": [
    "Created a temperary plot html file unless you specify the file name as pyo.plot(fig,filename = 'file_name.html') and also notice code above is still generating a scatter plot not a line plot although it's called 'Line Charts'，因为在go.Scatter里mode绘画模式选择的是markers "
   ]
  },
  {
   "cell_type": "code",
   "execution_count": 7,
   "metadata": {},
   "outputs": [
    {
     "data": {
      "text/plain": [
       "'Line.html'"
      ]
     },
     "execution_count": 7,
     "metadata": {},
     "output_type": "execute_result"
    }
   ],
   "source": [
    "trace0 = go.Scatter(x = x_values, y=y_values+5, mode='markers', name='markers')\n",
    "\n",
    "trace1 = go.Scatter(x = x_values, y=y_values, mode='lines', name='mylines')\n",
    "#name can be whatever you want to call, it is what plotly knows what this fig is called in Chart legends\n",
    "#mode是画线的方式，连线还是画点\n",
    "trace2 = go.Scatter(x = x_values, y=y_values-5, mode='lines+markers', name='my favorite')\n",
    "\n",
    "data = [trace0, trace1, trace2] #data can be a list when you make multiple plots\n",
    "\n",
    "layout = go.Layout(title= 'Line Charts')\n",
    "\n",
    "fig = go.Figure(data=data, layout=layout)\n",
    "\n",
    "pyo.plot(fig, filename = 'Line.html')"
   ]
  },
  {
   "cell_type": "code",
   "execution_count": null,
   "metadata": {},
   "outputs": [],
   "source": []
  }
 ],
 "metadata": {
  "kernelspec": {
   "display_name": "Python 3 (ipykernel)",
   "language": "python",
   "name": "python3"
  },
  "language_info": {
   "codemirror_mode": {
    "name": "ipython",
    "version": 3
   },
   "file_extension": ".py",
   "mimetype": "text/x-python",
   "name": "python",
   "nbconvert_exporter": "python",
   "pygments_lexer": "ipython3",
   "version": "3.9.5"
  }
 },
 "nbformat": 4,
 "nbformat_minor": 2
}
