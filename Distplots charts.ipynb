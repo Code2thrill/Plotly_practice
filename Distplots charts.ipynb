{
 "cells": [
  {
   "cell_type": "code",
   "execution_count": 1,
   "metadata": {},
   "outputs": [],
   "source": [
    "import plotly.offline as pyo\n",
    "import plotly.figure_factory as ff\n",
    "import numpy as np"
   ]
  },
  {
   "cell_type": "code",
   "execution_count": 2,
   "metadata": {},
   "outputs": [
    {
     "data": {
      "text/plain": [
       "'distplot.html'"
      ]
     },
     "execution_count": 2,
     "metadata": {},
     "output_type": "execute_result"
    }
   ],
   "source": [
    "x = np.random.randn(1000) #creates 1000 random data\n",
    "\n",
    "hist_data = [x]\n",
    "group_labels = ['displot'] #label for x in legend\n",
    "\n",
    "fig = ff.create_distplot(hist_data,group_labels)#use ff.create_distplot()\n",
    "pyo.plot(fig, filename='distplot.html')"
   ]
  },
  {
   "cell_type": "code",
   "execution_count": 3,
   "metadata": {},
   "outputs": [
    {
     "data": {
      "text/plain": [
       "'distplot2.html'"
      ]
     },
     "execution_count": 3,
     "metadata": {},
     "output_type": "execute_result"
    }
   ],
   "source": [
    "x1 = np.random.randn(200)-2\n",
    "x2 = np.random.randn(200)\n",
    "x3 = np.random.randn(200)+2\n",
    "x4 = np.random.randn(200)+4\n",
    "\n",
    "hist_data = [x1,x2,x3,x4]\n",
    "group_labels = ['x1','x2','x3','x4'] #label for x in legend\n",
    "\n",
    "fig = ff.create_distplot(hist_data,group_labels)\n",
    "pyo.plot(fig, filename='distplot2.html')"
   ]
  },
  {
   "cell_type": "code",
   "execution_count": 5,
   "metadata": {},
   "outputs": [
    {
     "data": {
      "text/plain": [
       "'distplot3.html'"
      ]
     },
     "execution_count": 5,
     "metadata": {},
     "output_type": "execute_result"
    }
   ],
   "source": [
    "x1 = np.random.randn(200)-2\n",
    "x2 = np.random.randn(200)\n",
    "x3 = np.random.randn(200)+2\n",
    "x4 = np.random.randn(200)+4\n",
    "\n",
    "hist_data = [x1,x2,x3,x4]\n",
    "group_labels = ['x1','x2','x3','x4'] #label for x in legend\n",
    "\n",
    "fig = ff.create_distplot(hist_data,group_labels,bin_size=[.2,.1,.3,.4])\n",
    "#create bin sizes for x1, x2, x3, x4 \n",
    "pyo.plot(fig, filename='distplot3.html')"
   ]
  },
  {
   "cell_type": "code",
   "execution_count": 6,
   "metadata": {},
   "outputs": [
    {
     "data": {
      "text/plain": [
       "'Snodgrass_Twain_distplot.html'"
      ]
     },
     "execution_count": 6,
     "metadata": {},
     "output_type": "execute_result"
    }
   ],
   "source": [
    "snodgrass = [.209,.205,.196,.210,.202,.207,.224,.223,.220,.201]\n",
    "twain = [.225,.262,.217,.240,.230,.229,.235,.217]\n",
    "\n",
    "hist_data2 = [snodgrass,twain]\n",
    "group_labels2 = ['Snodgrass Writing','Mark Twain Writings']\n",
    "\n",
    "fig = ff.create_distplot(hist_data2, group_labels2, bin_size=[0.005,0.005])\n",
    "pyo.plot(fig, filename='Snodgrass_Twain_distplot.html')"
   ]
  },
  {
   "cell_type": "code",
   "execution_count": null,
   "metadata": {},
   "outputs": [],
   "source": []
  }
 ],
 "metadata": {
  "kernelspec": {
   "display_name": "Python 3",
   "language": "python",
   "name": "python3"
  },
  "language_info": {
   "codemirror_mode": {
    "name": "ipython",
    "version": 3
   },
   "file_extension": ".py",
   "mimetype": "text/x-python",
   "name": "python",
   "nbconvert_exporter": "python",
   "pygments_lexer": "ipython3",
   "version": "3.7.3"
  }
 },
 "nbformat": 4,
 "nbformat_minor": 2
}
