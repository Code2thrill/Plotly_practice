{
 "cells": [
  {
   "cell_type": "code",
   "execution_count": 2,
   "metadata": {},
   "outputs": [],
   "source": [
    "import numpy as np\n",
    "import plotly.offline as pyo\n",
    "import plotly.graph_objs as go"
   ]
  },
  {
   "cell_type": "code",
   "execution_count": 3,
   "metadata": {},
   "outputs": [],
   "source": [
    "np.random.seed(42)"
   ]
  },
  {
   "cell_type": "code",
   "execution_count": 4,
   "metadata": {},
   "outputs": [],
   "source": [
    "random_x = np.random.randint(1,101,100)\n",
    "random_y = np.random.randint(1,101,100)"
   ]
  },
  {
   "cell_type": "code",
   "execution_count": 5,
   "metadata": {},
   "outputs": [
    {
     "data": {
      "text/plain": [
       "array([ 52,  93,  15,  72,  61,  21,  83,  87,  75,  75,  88, 100,  24,\n",
       "         3,  22,  53,   2,  88,  30,  38,   2,  64,  60,  21,  33,  76,\n",
       "        58,  22,  89,  49,  91,  59,  42,  92,  60,  80,  15,  62,  62,\n",
       "        47,  62,  51,  55,  64,   3,  51,   7,  21,  73,  39,  18,   4,\n",
       "        89,  60,  14,   9,  90,  53,   2,  84,  92,  60,  71,  44,   8,\n",
       "        47,  35,  78,  81,  36,  50,   4,   2,   6,  54,   4,  54,  93,\n",
       "        63,  18,  90,  44,  34,  74,  62, 100,  14,  95,  48,  15,  72,\n",
       "        78,  87,  62,  40,  85,  80,  82,  53,  24])"
      ]
     },
     "execution_count": 5,
     "metadata": {},
     "output_type": "execute_result"
    }
   ],
   "source": [
    "random_x"
   ]
  },
  {
   "cell_type": "code",
   "execution_count": 6,
   "metadata": {},
   "outputs": [
    {
     "data": {
      "text/plain": [
       "array([26, 89, 60, 41, 29, 15, 45, 65, 89, 71,  9, 88,  1,  8, 88, 63, 11,\n",
       "       81,  8, 35, 35, 33,  5, 41, 28,  7, 73, 72, 12, 34, 33, 48, 23, 62,\n",
       "       88, 37, 99, 44, 86, 91, 35, 65, 99, 47, 78,  3,  1,  5, 90, 14, 27,\n",
       "        9, 79, 15, 90, 42, 77, 51, 63, 96, 52, 96,  4, 94, 23, 15, 43, 29,\n",
       "       36, 13, 32, 71, 59, 86, 28, 66, 42, 45, 62, 57,  6, 28, 28, 44, 84,\n",
       "       30, 62, 75, 92, 89, 62, 97,  1, 27, 62, 77,  3, 70, 72, 27])"
      ]
     },
     "execution_count": 6,
     "metadata": {},
     "output_type": "execute_result"
    }
   ],
   "source": [
    "random_y"
   ]
  },
  {
   "cell_type": "code",
   "execution_count": 14,
   "metadata": {},
   "outputs": [],
   "source": [
    "#plotly follows a syntex with variable called data and plugs the data variable to a .plot() call\n",
    "#go.后面是type of chart，in this case is scatter chart with x and y values\n",
    "#这里的go其实是上面定义的plotly.grapho_objs\n",
    "data =[go.Scatter(x=random_x, y=random_y, mode='markers',\n",
    "                  marker=dict(\n",
    "                      size=12, \n",
    "                      color='rgb(51,204,153)',\n",
    "                      symbol='pentagon',\n",
    "                      line={'width':2}))]\n",
    "layout = go.Layout(title='Hello First Plot',\n",
    "                   xaxis = {'title':'MY X AXIS'},\n",
    "                   yaxis=dict(title='MY Y AXIS'),\n",
    "                   hovermode ='closest')\n",
    "\n",
    "fig = go.Figure(data=data,layout=layout)"
   ]
  },
  {
   "cell_type": "code",
   "execution_count": 16,
   "metadata": {},
   "outputs": [
    {
     "data": {
      "text/plain": [
       "'scater.html'"
      ]
     },
     "execution_count": 16,
     "metadata": {},
     "output_type": "execute_result"
    }
   ],
   "source": [
    "# pyo.plot(data,filename='scatter.html') this is only passing data without layout setup\n",
    "pyo.plot(fig,filename = 'scater.html')"
   ]
  },
  {
   "cell_type": "code",
   "execution_count": 9,
   "metadata": {},
   "outputs": [
    {
     "data": {
      "text/plain": [
       "list"
      ]
     },
     "execution_count": 9,
     "metadata": {},
     "output_type": "execute_result"
    }
   ],
   "source": [
    "#在这里的data variable 就是一个特殊的给 plotly用的list\n",
    "type(data)"
   ]
  }
 ],
 "metadata": {
  "kernelspec": {
   "display_name": "Python 3",
   "language": "python",
   "name": "python3"
  },
  "language_info": {
   "codemirror_mode": {
    "name": "ipython",
    "version": 3
   },
   "file_extension": ".py",
   "mimetype": "text/x-python",
   "name": "python",
   "nbconvert_exporter": "python",
   "pygments_lexer": "ipython3",
   "version": "3.7.3"
  }
 },
 "nbformat": 4,
 "nbformat_minor": 2
}
